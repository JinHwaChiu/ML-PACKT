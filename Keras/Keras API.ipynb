{
 "cells": [
  {
   "cell_type": "markdown",
   "metadata": {},
   "source": [
    "# Keras Model"
   ]
  },
  {
   "cell_type": "code",
   "execution_count": 4,
   "metadata": {},
   "outputs": [
    {
     "name": "stderr",
     "output_type": "stream",
     "text": [
      "Using TensorFlow backend.\n"
     ]
    }
   ],
   "source": [
    "#http://www.36dsj.com/archives/100643\n",
    "#https://www.zybuluo.com/hanbingtao/note/433855\n",
    "\n",
    "import keras"
   ]
  },
  {
   "cell_type": "code",
   "execution_count": 5,
   "metadata": {
    "collapsed": true
   },
   "outputs": [],
   "source": [
    "from keras.models import Model\n",
    "from keras.layers import Input, Dense\n",
    "from keras.layers import Conv2D, MaxPooling2D, GlobalAveragePooling2D\n",
    "from keras.layers import Dropout, Flatten, Dense\n",
    "from keras.models import Sequential\n",
    "from keras.utils import plot_model\n",
    "from keras.layers.recurrent import LSTM\n",
    "from keras.layers.merge import concatenate"
   ]
  },
  {
   "cell_type": "markdown",
   "metadata": {},
   "source": [
    "- 序貫模型\n",
    "- 功能函数模型\n",
    "- 標準網路模型。\n",
    "- 共享層模型。\n",
    "- 多个输入和输出模型。\n",
    "- 練習\n"
   ]
  },
  {
   "cell_type": "markdown",
   "metadata": {},
   "source": [
    "### 標準網路模型\n",
    "1. MLP\n",
    "2. CNN\n",
    "3. LSTM"
   ]
  },
  {
   "cell_type": "markdown",
   "metadata": {},
   "source": [
    "二進位分類的多層感知器模型\n",
    "    - 10個输入\n",
    "    - 3個隐藏層\n",
    "    - 10個神经元\n",
    "    - 1個输出\n",
    "    - 每個隐藏層用整流線性激活函數\n",
    "    - 输出層使用S形激活函數,二進制分類"
   ]
  },
  {
   "cell_type": "code",
   "execution_count": 7,
   "metadata": {},
   "outputs": [],
   "source": [
    "#import pydot\n",
    "from keras.utils import plot_model"
   ]
  },
  {
   "cell_type": "code",
   "execution_count": 9,
   "metadata": {
    "scrolled": false
   },
   "outputs": [
    {
     "name": "stdout",
     "output_type": "stream",
     "text": [
      "_________________________________________________________________\n",
      "Layer (type)                 Output Shape              Param #   \n",
      "=================================================================\n",
      "input_2 (InputLayer)         (None, 10)                0         \n",
      "_________________________________________________________________\n",
      "dense_5 (Dense)              (None, 10)                110       \n",
      "_________________________________________________________________\n",
      "dense_6 (Dense)              (None, 20)                220       \n",
      "_________________________________________________________________\n",
      "dense_7 (Dense)              (None, 10)                210       \n",
      "_________________________________________________________________\n",
      "dense_8 (Dense)              (None, 10)                110       \n",
      "=================================================================\n",
      "Total params: 650\n",
      "Trainable params: 650\n",
      "Non-trainable params: 0\n",
      "_________________________________________________________________\n",
      "None\n"
     ]
    }
   ],
   "source": [
    "import graphviz\n",
    "visible = Input(shape=(10,))\n",
    "hidden1 = Dense(10,activation='relu')(visible)\n",
    "hidden2 = Dense(20,activation='relu')(hidden1)\n",
    "hidden3 = Dense(10,activation='relu')(hidden2)\n",
    "output  = Dense(10,activation='sigmoid')(hidden3)\n",
    "model = Model(inputs=visible,outputs=output)\n",
    "print(model.summary())\n",
    "#\n",
    "#plot_model(model, to_file='multilayer_perceptron_graph.png')\n"
   ]
  },
  {
   "cell_type": "markdown",
   "metadata": {},
   "source": [
    "### CNN(圖像分類)"
   ]
  },
  {
   "cell_type": "code",
   "execution_count": 10,
   "metadata": {},
   "outputs": [
    {
     "name": "stdout",
     "output_type": "stream",
     "text": [
      "_________________________________________________________________\n",
      "Layer (type)                 Output Shape              Param #   \n",
      "=================================================================\n",
      "input_3 (InputLayer)         (None, 244, 244, 3)       0         \n",
      "_________________________________________________________________\n",
      "conv2d_1 (Conv2D)            (None, 244, 244, 16)      208       \n",
      "_________________________________________________________________\n",
      "max_pooling2d_1 (MaxPooling2 (None, 122, 122, 16)      0         \n",
      "_________________________________________________________________\n",
      "conv2d_2 (Conv2D)            (None, 122, 122, 32)      2080      \n",
      "_________________________________________________________________\n",
      "max_pooling2d_2 (MaxPooling2 (None, 61, 61, 32)        0         \n",
      "_________________________________________________________________\n",
      "conv2d_3 (Conv2D)            (None, 61, 61, 64)        8256      \n",
      "_________________________________________________________________\n",
      "max_pooling2d_3 (MaxPooling2 (None, 30, 30, 64)        0         \n",
      "_________________________________________________________________\n",
      "dropout_1 (Dropout)          (None, 30, 30, 64)        0         \n",
      "_________________________________________________________________\n",
      "flatten_1 (Flatten)          (None, 57600)             0         \n",
      "_________________________________________________________________\n",
      "dense_9 (Dense)              (None, 500)               28800500  \n",
      "_________________________________________________________________\n",
      "dropout_2 (Dropout)          (None, 500)               0         \n",
      "_________________________________________________________________\n",
      "dense_10 (Dense)             (None, 133)               66633     \n",
      "=================================================================\n",
      "Total params: 28,877,677\n",
      "Trainable params: 28,877,677\n",
      "Non-trainable params: 0\n",
      "_________________________________________________________________\n"
     ]
    }
   ],
   "source": [
    "In = Input(shape=(244,244,3))\n",
    "conv1 = Conv2D(filters=16, kernel_size=2, padding='same', activation='relu')(In)\n",
    "pool1 = MaxPooling2D(pool_size=2)(conv1)\n",
    "conv2 = Conv2D(filters=32,kernel_size=2, padding='same', activation='relu')(pool1)\n",
    "pool2 = MaxPooling2D(pool_size=2)(conv2)\n",
    "conv3 = Conv2D(filters=64, kernel_size=2, padding='same', activation='relu')(pool2)\n",
    "pool3 = MaxPooling2D(pool_size=2)(conv3)\n",
    "drop1 = Dropout(0.3)(pool3)\n",
    "flat = Flatten()(drop1)\n",
    "dense= Dense(500, activation='relu')(flat)\n",
    "drop2 = Dropout(0.4)(dense)\n",
    "out = Dense(133, activation='softmax')(drop2)\n",
    "\n",
    "model = Model(inputs=In, outputs=out)\n",
    "\n",
    "model.summary()"
   ]
  },
  {
   "cell_type": "code",
   "execution_count": 11,
   "metadata": {
    "collapsed": true
   },
   "outputs": [],
   "source": [
    "model.compile(optimizer='rmsprop',\n",
    "              loss='mean_squared_error',\n",
    "              metrics=['categorical_crossentropy'])"
   ]
  },
  {
   "cell_type": "markdown",
   "metadata": {},
   "source": [
    "### LSTM循環神經網路(序列分類)"
   ]
  },
  {
   "cell_type": "code",
   "execution_count": null,
   "metadata": {
    "collapsed": true
   },
   "outputs": [],
   "source": []
  }
 ],
 "metadata": {
  "kernelspec": {
   "display_name": "Python 3",
   "language": "python",
   "name": "python3"
  },
  "language_info": {
   "codemirror_mode": {
    "name": "ipython",
    "version": 3
   },
   "file_extension": ".py",
   "mimetype": "text/x-python",
   "name": "python",
   "nbconvert_exporter": "python",
   "pygments_lexer": "ipython3",
   "version": "3.5.4"
  }
 },
 "nbformat": 4,
 "nbformat_minor": 2
}
