{
 "cells": [
  {
   "cell_type": "markdown",
   "metadata": {},
   "source": [
    "# Keras Model"
   ]
  },
  {
   "cell_type": "code",
   "execution_count": 1,
   "metadata": {},
   "outputs": [
    {
     "name": "stderr",
     "output_type": "stream",
     "text": [
      "Using TensorFlow backend.\n"
     ]
    }
   ],
   "source": [
    "#http://www.36dsj.com/archives/100643\n",
    "import keras"
   ]
  },
  {
   "cell_type": "code",
   "execution_count": 2,
   "metadata": {
    "collapsed": true
   },
   "outputs": [],
   "source": [
    "from keras.models import Model\n",
    "from keras.layers import Input, Dense\n",
    "from keras.layers import Conv2D, MaxPooling2D, GlobalAveragePooling2D\n",
    "from keras.layers import Dropout, Flatten, Dense\n",
    "from keras.models import Sequential\n",
    "from keras.utils import plot_model\n",
    "from keras.layers.recurrent import LSTM\n",
    "from keras.layers.merge import concatenate"
   ]
  },
  {
   "cell_type": "markdown",
   "metadata": {},
   "source": [
    "- 序貫模型\n",
    "- 功能函数模型\n",
    "- 標準網路模型。\n",
    "- 共享層模型。\n",
    "- 多个输入和输出模型。\n",
    "- 練習\n"
   ]
  },
  {
   "cell_type": "markdown",
   "metadata": {},
   "source": [
    "### 標準網路模型\n",
    "1. MLP\n",
    "2. CNN\n",
    "3. LSTM"
   ]
  },
  {
   "cell_type": "markdown",
   "metadata": {},
   "source": [
    "二進位分類的多層感知器模型\n",
    "    - 10個输入\n",
    "    - 3個隐藏層\n",
    "    - 10個神经元\n",
    "    - 1個输出\n",
    "    - 每個隐藏層用整流線性激活函數\n",
    "    - 输出層使用S形激活函數,二進制分類"
   ]
  },
  {
   "cell_type": "code",
   "execution_count": 44,
   "metadata": {},
   "outputs": [],
   "source": [
    "import pydot\n",
    "from keras.utils import plot_model"
   ]
  },
  {
   "cell_type": "code",
   "execution_count": 49,
   "metadata": {
    "scrolled": false
   },
   "outputs": [
    {
     "name": "stdout",
     "output_type": "stream",
     "text": [
      "_________________________________________________________________\n",
      "Layer (type)                 Output Shape              Param #   \n",
      "=================================================================\n",
      "input_31 (InputLayer)        (None, 10)                0         \n",
      "_________________________________________________________________\n",
      "dense_121 (Dense)            (None, 10)                110       \n",
      "_________________________________________________________________\n",
      "dense_122 (Dense)            (None, 20)                220       \n",
      "_________________________________________________________________\n",
      "dense_123 (Dense)            (None, 10)                210       \n",
      "_________________________________________________________________\n",
      "dense_124 (Dense)            (None, 10)                110       \n",
      "=================================================================\n",
      "Total params: 650\n",
      "Trainable params: 650\n",
      "Non-trainable params: 0\n",
      "_________________________________________________________________\n",
      "None\n"
     ]
    }
   ],
   "source": [
    "import graphviz\n",
    "visible = Input(shape=(10,))\n",
    "hidden1 = Dense(10,activation='relu')(visible)\n",
    "hidden2 = Dense(20,activation='relu')(hidden1)\n",
    "hidden3 = Dense(10,activation='relu')(hidden2)\n",
    "output  = Dense(10,activation='sigmoid')(hidden3)\n",
    "model = Model(inputs=visible,outputs=output)\n",
    "print(model.summary())\n",
    "#plot_model(model, to_file='multilayer_perceptron_graph.png')\n"
   ]
  },
  {
   "cell_type": "markdown",
   "metadata": {},
   "source": [
    "### CNN(圖像分類)"
   ]
  },
  {
   "cell_type": "code",
   "execution_count": null,
   "metadata": {},
   "outputs": [],
   "source": [
    "In = Input(shape=(244,244,3))\n",
    "conv1 = Conv2D(filters=16, kernel_size=2, padding='same', activation='relu')(In)\n",
    "pool1 = MaxPooling2D(pool_size=2)(conv1)\n",
    "conv2 = Conv2D(filters=32,kernel_size=2, padding='same', activation='relu')(pool1)\n",
    "pool2 = MaxPooling2D(pool_size=2)(conv2)\n",
    "conv3 = Conv2D(filters=64, kernel_size=2, padding='same', activation='relu')(pool2)\n",
    "pool3 = MaxPooling2D(pool_size=2)(conv3)\n",
    "drop1 = Dropout(0.3)(pool3)\n",
    "flat = Flatten()(drop1)\n",
    "dense= Dense(500, activation='relu')(flat)\n",
    "drop2 = Dropout(0.4)(dense)\n",
    "out = Dense(133, activation='softmax')(drop2)\n",
    "\n",
    "model = Model(inputs=In, outputs=out)\n",
    "\n",
    "model.summary()"
   ]
  },
  {
   "cell_type": "code",
   "execution_count": 33,
   "metadata": {
    "collapsed": true
   },
   "outputs": [],
   "source": [
    "model.compile(optimizer='rmsprop',\n",
    "              loss='mean_squared_error',\n",
    "              metrics=['categorical_crossentropy'])"
   ]
  },
  {
   "cell_type": "markdown",
   "metadata": {},
   "source": [
    "### LSTM循環神經網路(序列分類)"
   ]
  },
  {
   "cell_type": "code",
   "execution_count": null,
   "metadata": {
    "collapsed": true
   },
   "outputs": [],
   "source": []
  }
 ],
 "metadata": {
  "kernelspec": {
   "display_name": "Python 3",
   "language": "python",
   "name": "python3"
  },
  "language_info": {
   "codemirror_mode": {
    "name": "ipython",
    "version": 3
   },
   "file_extension": ".py",
   "mimetype": "text/x-python",
   "name": "python",
   "nbconvert_exporter": "python",
   "pygments_lexer": "ipython3",
   "version": "3.5.4"
  }
 },
 "nbformat": 4,
 "nbformat_minor": 2
}
