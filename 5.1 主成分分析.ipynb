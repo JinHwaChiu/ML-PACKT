{
 "cells": [
  {
   "cell_type": "code",
   "execution_count": 39,
   "metadata": {},
   "outputs": [
    {
     "data": {
      "text/html": [
       "<div>\n",
       "<style>\n",
       "    .dataframe thead tr:only-child th {\n",
       "        text-align: right;\n",
       "    }\n",
       "\n",
       "    .dataframe thead th {\n",
       "        text-align: left;\n",
       "    }\n",
       "\n",
       "    .dataframe tbody tr th {\n",
       "        vertical-align: top;\n",
       "    }\n",
       "</style>\n",
       "<table border=\"1\" class=\"dataframe\">\n",
       "  <thead>\n",
       "    <tr style=\"text-align: right;\">\n",
       "      <th></th>\n",
       "      <th>Class Label</th>\n",
       "      <th>Alcohol</th>\n",
       "      <th>Malic acid</th>\n",
       "      <th>Ash</th>\n",
       "      <th>Alcalinity of ash</th>\n",
       "      <th>Magnesium</th>\n",
       "      <th>Total phenols</th>\n",
       "      <th>Flavanoids</th>\n",
       "      <th>Nonflavanoid phenols</th>\n",
       "      <th>Proanthocyanins</th>\n",
       "      <th>Color intensity</th>\n",
       "      <th>Hue</th>\n",
       "      <th>OD280/OD315 of diluted wines</th>\n",
       "      <th>Proline</th>\n",
       "    </tr>\n",
       "  </thead>\n",
       "  <tbody>\n",
       "    <tr>\n",
       "      <th>0</th>\n",
       "      <td>1</td>\n",
       "      <td>13.20</td>\n",
       "      <td>1.78</td>\n",
       "      <td>2.14</td>\n",
       "      <td>11.2</td>\n",
       "      <td>100</td>\n",
       "      <td>2.65</td>\n",
       "      <td>2.76</td>\n",
       "      <td>0.26</td>\n",
       "      <td>1.28</td>\n",
       "      <td>4.38</td>\n",
       "      <td>1.05</td>\n",
       "      <td>3.40</td>\n",
       "      <td>1050</td>\n",
       "    </tr>\n",
       "    <tr>\n",
       "      <th>1</th>\n",
       "      <td>1</td>\n",
       "      <td>13.16</td>\n",
       "      <td>2.36</td>\n",
       "      <td>2.67</td>\n",
       "      <td>18.6</td>\n",
       "      <td>101</td>\n",
       "      <td>2.80</td>\n",
       "      <td>3.24</td>\n",
       "      <td>0.30</td>\n",
       "      <td>2.81</td>\n",
       "      <td>5.68</td>\n",
       "      <td>1.03</td>\n",
       "      <td>3.17</td>\n",
       "      <td>1185</td>\n",
       "    </tr>\n",
       "    <tr>\n",
       "      <th>2</th>\n",
       "      <td>1</td>\n",
       "      <td>14.37</td>\n",
       "      <td>1.95</td>\n",
       "      <td>2.50</td>\n",
       "      <td>16.8</td>\n",
       "      <td>113</td>\n",
       "      <td>3.85</td>\n",
       "      <td>3.49</td>\n",
       "      <td>0.24</td>\n",
       "      <td>2.18</td>\n",
       "      <td>7.80</td>\n",
       "      <td>0.86</td>\n",
       "      <td>3.45</td>\n",
       "      <td>1480</td>\n",
       "    </tr>\n",
       "    <tr>\n",
       "      <th>3</th>\n",
       "      <td>1</td>\n",
       "      <td>13.24</td>\n",
       "      <td>2.59</td>\n",
       "      <td>2.87</td>\n",
       "      <td>21.0</td>\n",
       "      <td>118</td>\n",
       "      <td>2.80</td>\n",
       "      <td>2.69</td>\n",
       "      <td>0.39</td>\n",
       "      <td>1.82</td>\n",
       "      <td>4.32</td>\n",
       "      <td>1.04</td>\n",
       "      <td>2.93</td>\n",
       "      <td>735</td>\n",
       "    </tr>\n",
       "    <tr>\n",
       "      <th>4</th>\n",
       "      <td>1</td>\n",
       "      <td>14.20</td>\n",
       "      <td>1.76</td>\n",
       "      <td>2.45</td>\n",
       "      <td>15.2</td>\n",
       "      <td>112</td>\n",
       "      <td>3.27</td>\n",
       "      <td>3.39</td>\n",
       "      <td>0.34</td>\n",
       "      <td>1.97</td>\n",
       "      <td>6.75</td>\n",
       "      <td>1.05</td>\n",
       "      <td>2.85</td>\n",
       "      <td>1450</td>\n",
       "    </tr>\n",
       "  </tbody>\n",
       "</table>\n",
       "</div>"
      ],
      "text/plain": [
       "   Class Label  Alcohol  Malic acid   Ash  Alcalinity of ash  Magnesium  \\\n",
       "0            1    13.20        1.78  2.14               11.2        100   \n",
       "1            1    13.16        2.36  2.67               18.6        101   \n",
       "2            1    14.37        1.95  2.50               16.8        113   \n",
       "3            1    13.24        2.59  2.87               21.0        118   \n",
       "4            1    14.20        1.76  2.45               15.2        112   \n",
       "\n",
       "   Total phenols  Flavanoids  Nonflavanoid phenols  Proanthocyanins  \\\n",
       "0           2.65        2.76                  0.26             1.28   \n",
       "1           2.80        3.24                  0.30             2.81   \n",
       "2           3.85        3.49                  0.24             2.18   \n",
       "3           2.80        2.69                  0.39             1.82   \n",
       "4           3.27        3.39                  0.34             1.97   \n",
       "\n",
       "   Color intensity   Hue  OD280/OD315 of diluted wines  Proline  \n",
       "0             4.38  1.05                          3.40     1050  \n",
       "1             5.68  1.03                          3.17     1185  \n",
       "2             7.80  0.86                          3.45     1480  \n",
       "3             4.32  1.04                          2.93      735  \n",
       "4             6.75  1.05                          2.85     1450  "
      ]
     },
     "metadata": {},
     "output_type": "display_data"
    },
    {
     "data": {
      "text/plain": [
       "array([1, 2, 3], dtype=int64)"
      ]
     },
     "metadata": {},
     "output_type": "display_data"
    }
   ],
   "source": [
    "#http://archive.ics.uci.edu/ml/machine-learning-databases/wine/wine.data\n",
    "import pandas as pd\n",
    "import numpy as np\n",
    "from IPython.display import display\n",
    "df_wine = pd.read_csv('http://archive.ics.uci.edu/ml/machine-learning-databases/wine/wine.data')\n",
    "#print df_wine\n",
    "#print df_wine.shape\n",
    "df_wine.columns = [\n",
    "'Class Label',\n",
    "'Alcohol',\n",
    "'Malic acid',\n",
    "'Ash',\n",
    "'Alcalinity of ash',  \n",
    "'Magnesium',\n",
    "'Total phenols',\n",
    "'Flavanoids',\n",
    "'Nonflavanoid phenols',\n",
    "'Proanthocyanins',\n",
    "'Color intensity',\n",
    "'Hue',\n",
    "'OD280/OD315 of diluted wines',\n",
    "'Proline',]\n",
    "display(\n",
    "df_wine.head(),\n",
    "df_wine['Class Label'].unique())"
   ]
  },
  {
   "cell_type": "code",
   "execution_count": 12,
   "metadata": {},
   "outputs": [
    {
     "name": "stdout",
     "output_type": "stream",
     "text": [
      "Eigenvalues: \n",
      " [ 4.8083  2.6037  1.3709  0.8973  0.8942  0.615   0.5243  0.0999  0.364\n",
      "  0.1628  0.3035  0.2365  0.2261]\n",
      "Eigenvectors: \n",
      " [[ 0.1176 -0.4845 -0.2268  0.2217 -0.0658  0.2968  0.0779 -0.0272 -0.4189\n",
      "   0.2747 -0.3407 -0.3701  0.2182]\n",
      " [-0.2713 -0.2254  0.0915 -0.0505  0.4231  0.5144 -0.551  -0.0046 -0.0791\n",
      "  -0.1424  0.018   0.1616 -0.2541]\n",
      " [-0.0029 -0.3785  0.5661  0.1806 -0.2155  0.0617  0.1038  0.1508  0.2343\n",
      "   0.0024  0.3695 -0.4018 -0.2589]\n",
      " [-0.2188 -0.0042  0.6695 -0.0126  0.076  -0.0685  0.2309 -0.1101 -0.4467\n",
      "   0.091  -0.1243  0.3575  0.277 ]\n",
      " [ 0.1138 -0.2983  0.1477 -0.7507 -0.3196 -0.1362 -0.2878 -0.0423  0.1084\n",
      "  -0.0356 -0.2873 -0.0517  0.0956]\n",
      " [ 0.3884 -0.084   0.155   0.1467  0.2209 -0.0378  0.0357  0.4316  0.3058\n",
      "   0.3384 -0.4473  0.319  -0.2211]\n",
      " [ 0.418  -0.0357  0.147   0.1125  0.193  -0.0043  0.0437 -0.8171  0.1523\n",
      "  -0.0943 -0.1355 -0.0335 -0.1769]\n",
      " [-0.3078 -0.0553  0.0714  0.4978 -0.1451 -0.4046 -0.5167 -0.0989  0.2269\n",
      "  -0.0168 -0.2618 -0.0493  0.255 ]\n",
      " [ 0.3189 -0.0347  0.049  -0.0903  0.4978 -0.4928 -0.29    0.1347 -0.3316\n",
      "   0.1214  0.3054 -0.2658  0.0712]\n",
      " [-0.0996 -0.5134 -0.184   0.0507  0.1797 -0.3316  0.3144  0.1071 -0.0391\n",
      "  -0.6189 -0.1127  0.1653 -0.1141]\n",
      " [ 0.3168  0.2155  0.0815  0.1929 -0.4465 -0.0218 -0.2531  0.1229 -0.4962\n",
      "  -0.3153 -0.1154  0.0778 -0.4067]\n",
      " [ 0.3827  0.1349  0.1742  0.0847  0.0905  0.3182 -0.0552  0.2121  0.1612\n",
      "  -0.4959 -0.0102 -0.0862  0.6007]\n",
      " [ 0.2703 -0.3761 -0.1604  0.122  -0.2601  0.0241 -0.1524 -0.0954  0.0118\n",
      "   0.1671  0.4926  0.5729  0.213 ]]\n"
     ]
    }
   ],
   "source": [
    "from sklearn.model_selection import train_test_split\n",
    "from sklearn.preprocessing import StandardScaler\n",
    "\n",
    "\n",
    "X,y = df_wine.iloc[:,1:], df_wine.iloc[:,0]\n",
    "\n",
    "X_train,X_test,y_train,y_test = train_test_split(X,y,test_size=0.3,random_state=0)\n",
    "sc = StandardScaler()\n",
    "#對原始數據標準化\n",
    "x_train_std = sc.fit_transform(X_train)\n",
    "x_test_std = sc.fit_transform(X_test)\n",
    "\n",
    "#Co-variance\n",
    "cov_mat = np.cov(x_train_std.T)\n",
    "\n",
    "#Eigen-value,vector\n",
    "eigen_val, eigen_vecs = np.linalg.eig(cov_mat) \n",
    "\n",
    "cov_mat = np.cov(x_train_std)\n",
    "#print x_train_std\n",
    "print ('Eigenvalues: \\n', eigen_val)\n",
    "print ('Eigenvectors: \\n', eigen_vecs)\n",
    "\n"
   ]
  },
  {
   "cell_type": "code",
   "execution_count": 13,
   "metadata": {},
   "outputs": [],
   "source": [
    "tot = sum(eigen_val)\n",
    "var_exp = [(i/tot) for i in sorted(eigen_val,reverse=True)]\n",
    "cum_var_exp = np.cumsum(var_exp)"
   ]
  },
  {
   "cell_type": "code",
   "execution_count": 14,
   "metadata": {},
   "outputs": [
    {
     "data": {
      "image/png": "[encoded data removed]",
      "text/plain": [
       "<matplotlib.figure.Figure at 0x1f56fb882b0>"
      ]
     },
     "metadata": {},
     "output_type": "display_data"
    }
   ],
   "source": [
    "import matplotlib.pyplot as plt\n",
    "plt.bar(range(1,14), var_exp, alpha=0.5, align='center',label='individual explained variance')\n",
    "plt.step(range(1,14), cum_var_exp, where='mid', label='cumulative variance ratio')\n",
    "plt.ylabel('cumulative variance ratio')\n",
    "plt.xlabel('individual explained variance')\n",
    "plt.show()"
   ]
  },
  {
   "cell_type": "code",
   "execution_count": 16,
   "metadata": {},
   "outputs": [
    {
     "name": "stdout",
     "output_type": "stream",
     "text": [
      "[[ 0.1176 -0.4845]\n",
      " [-0.2713 -0.2254]\n",
      " [-0.0029 -0.3785]\n",
      " [-0.2188 -0.0042]\n",
      " [ 0.1138 -0.2983]\n",
      " [ 0.3884 -0.084 ]\n",
      " [ 0.418  -0.0357]\n",
      " [-0.3078 -0.0553]\n",
      " [ 0.3189 -0.0347]\n",
      " [-0.0996 -0.5134]\n",
      " [ 0.3168  0.2155]\n",
      " [ 0.3827  0.1349]\n",
      " [ 0.2703 -0.3761]]\n"
     ]
    }
   ],
   "source": [
    "#特徵轉換\n",
    "eigen_pairs = [(np.abs(eigen_val[i]), eigen_vecs[:,i]) for i in range(len(eigen_val))]\n",
    "#print eigen_pairs\n",
    "eigen_pairs.sort(reverse=True)\n",
    "#eigen_paris = sorted(eigen_pairs,reverse=True)\n",
    "\n",
    "#映射矩陣w......\n",
    "w = np.hstack((eigen_pairs[0][1][:,np.newaxis],eigen_pairs[1][1][:,np.newaxis]))\n",
    "\n",
    "print (w)"
   ]
  },
  {
   "cell_type": "code",
   "execution_count": 23,
   "metadata": {},
   "outputs": [
    {
     "name": "stdout",
     "output_type": "stream",
     "text": [
      "this works\n",
      "valeur is too high\n",
      "valeur is too high\n",
      "valeur is too high\n"
     ]
    }
   ],
   "source": [
    "x = np.arange(0,2,0.5)\n",
    "valeu = 2*x\n",
    "\n",
    "for i in range(len(valeu)):\n",
    "    if valeu[i] <= 0.6:\n",
    "        print (\"this works\")\n",
    "    else:   \n",
    "        print (\"valeur is too high\")"
   ]
  },
  {
   "cell_type": "markdown",
   "metadata": {},
   "source": [
    "### LDA\n",
    "- 線性判別分析壓縮無監督數據"
   ]
  },
  {
   "cell_type": "code",
   "execution_count": 243,
   "metadata": {},
   "outputs": [
    {
     "name": "stdout",
     "output_type": "stream",
     "text": [
      "MV of Class Label 1:[ 0.9378 -0.315   0.4122 -0.7469  0.4418  0.8602  0.9525 -0.5553  0.5883\n",
      "  0.2441  0.5306  0.7983  1.1974] \n",
      "\n",
      "MV of Class Label 2:[-0.8581 -0.4025 -0.5427  0.1785 -0.3325 -0.0059  0.0816 -0.1085  0.095\n",
      " -0.8547  0.3863  0.2486 -0.6721] \n",
      "\n",
      "MV of Class Label 3:[ 0.1861  0.9532  0.3254  0.5943 -0.0178 -0.978  -1.2126  0.7965 -0.8146\n",
      "  0.977  -1.1766 -1.2813 -0.3851] \n",
      "\n"
     ]
    }
   ],
   "source": [
    "import numpy as np\n",
    "np.set_printoptions(precision=4)\n",
    "mean_vec = []\n",
    "for label in range(1,4):\n",
    "    mean_vec.append(np.mean(x_train_std[label==y_train],axis=0))\n",
    "    print ('MV of Class Label %s:%s \\n'%(label,mean_vec[label-1]))"
   ]
  },
  {
   "cell_type": "code",
   "execution_count": 245,
   "metadata": {},
   "outputs": [],
   "source": [
    "#number of features\n",
    "d = 13\n",
    "#Scatter Matrix\n",
    "#within-class scatter matrix\n",
    "#類內散佈矩陣\n",
    "S_W = np.zeros((d,d))\n",
    "for label,mv in zip(range(1,4),mean_vec):\n",
    "    class_scatter = np.zeros((d,d))\n",
    "    for row in x_train_std[y_train==label]:\n",
    "        row,mv = row.reshape(d,1), mv.reshape(d,1)\n",
    "        #print (mv)\n",
    "        class_scatter += (row - mv).dot((row - mv).T)\n",
    "        #Scaled within-class scatter matrix\n",
    "        class_scatter_scale = np.cov(x_train_std[y_train==label].T)\n",
    "    S_W += class_scatter"
   ]
  },
  {
   "cell_type": "code",
   "execution_count": 246,
   "metadata": {},
   "outputs": [
    {
     "name": "stdout",
     "output_type": "stream",
     "text": [
      "within-class scatter matrix 13X13\n",
      "Scaled within-class scatter matrix 13X13\n"
     ]
    }
   ],
   "source": [
    "print (\"within-class scatter matrix %sX%s\" %(S_W.shape[0], S_W.shape[1]))\n",
    "\n",
    "print (\"Scaled within-class scatter matrix %sX%s\" %(S_W.shape[0], S_W.shape[1]))"
   ]
  },
  {
   "cell_type": "code",
   "execution_count": 259,
   "metadata": {},
   "outputs": [
    {
     "name": "stdout",
     "output_type": "stream",
     "text": [
      "Between-class scatter matrix: 13X13\n"
     ]
    }
   ],
   "source": [
    "#類間散佈矩陣\n",
    "#Between-class scatter matrix\n",
    "mean_overall = np.mean(x_train_std, axis=0)\n",
    "d = 13\n",
    "S_B = np.zeros((d,d))\n",
    "for i,mean_ve in enumerate(mean_vec):\n",
    "    n = np.array(X_train)[y_train == i+1, : ].shape[0]\n",
    "    #print (mean_ve.shape)\n",
    "    #mean_ve = mean_ve.reshape(d,1)\n",
    "    #print (mean_overall.shape)\n",
    "    mean_ve = mean_ve.reshape(d, 1)  # make column vector\n",
    "    mean_overall = mean_overall.reshape(d,1) # make column vector\n",
    "    #print (mean_overall.shape)\n",
    "    S_B += n*(mean_ve - mean_overall).dot((mean_ve - mean_overall).T)\n",
    "print (\"Between-class scatter matrix: %sX%s\" %(S_B.shape[0],S_B.shape[1]))\n"
   ]
  },
  {
   "cell_type": "markdown",
   "metadata": {},
   "source": [
    "Solve the generalized eigenvalue problem for the matrix $S_W^{-1}S_B$:"
   ]
  },
  {
   "cell_type": "code",
   "execution_count": 270,
   "metadata": {},
   "outputs": [
    {
     "name": "stdout",
     "output_type": "stream",
     "text": [
      "13\n"
     ]
    }
   ],
   "source": [
    "eigen_vals,eigen_vecs = np.linalg.eig(np.linalg.inv(S_W).dot(S_B))\n",
    "print (len(eigen_vals))"
   ]
  },
  {
   "cell_type": "code",
   "execution_count": 271,
   "metadata": {},
   "outputs": [
    {
     "name": "stdout",
     "output_type": "stream",
     "text": [
      "Eigenvalues in decreasing order:\n",
      "\n",
      "9.15455252755\n",
      "3.77944759561\n",
      "7.49141139098e-16\n",
      "7.49141139098e-16\n",
      "7.32747720368e-16\n",
      "5.98684115001e-16\n",
      "5.98684115001e-16\n",
      "5.14496669157e-16\n",
      "5.14496669157e-16\n",
      "4.4408920985e-16\n",
      "2.15075527015e-16\n",
      "2.15075527015e-16\n",
      "1.22130314447e-17\n"
     ]
    }
   ],
   "source": [
    "# Make a list of (eigenvalue, eigenvector) tuples\n",
    "eigen_pairs = [(np.abs(eigen_vals[i]), eigen_vecs[:, i])\n",
    "               for i in range(len(eigen_vals))]\n",
    "\n",
    "# Sort the (eigenvalue, eigenvector) tuples from high to low\n",
    "eigen_pairs = sorted(eigen_pairs, key=lambda k: k[0], reverse=True)\n",
    "\n",
    "# Visually confirm that the list is correctly sorted by decreasing eigenvalues\n",
    "\n",
    "print('Eigenvalues in decreasing order:\\n')\n",
    "for eigen_val in eigen_pairs:\n",
    "    print(eigen_val[0])"
   ]
  },
  {
   "cell_type": "code",
   "execution_count": null,
   "metadata": {},
   "outputs": [],
   "source": []
  },
  {
   "cell_type": "markdown",
   "metadata": {},
   "source": [
    "### sklearn 實現 PCA LDA KPCA"
   ]
  },
  {
   "cell_type": "code",
   "execution_count": 141,
   "metadata": {},
   "outputs": [],
   "source": [
    "from sklearn.discriminant_analysis import LinearDiscriminantAnalysis\n",
    "from sklearn.decomposition import KernelPCA\n",
    "from sklearn.decomposition import PCA"
   ]
  },
  {
   "cell_type": "code",
   "execution_count": 118,
   "metadata": {},
   "outputs": [
    {
     "data": {
      "image/png": "[encoded data removed]",
      "text/plain": [
       "<matplotlib.figure.Figure at 0x1f572067588>"
      ]
     },
     "metadata": {},
     "output_type": "display_data"
    }
   ],
   "source": [
    "from sklearn.datasets import make_moons\n",
    "X, y = make_moons(n_samples=100, random_state=123)\n",
    "\n",
    "plt.scatter(X[y == 0, 0], X[y == 0, 1], color='red', marker='^', alpha=0.5)\n",
    "plt.scatter(X[y == 1, 0], X[y == 1, 1], color='blue', marker='o', alpha=0.5)\n",
    "\n",
    "plt.tight_layout()\n",
    "# plt.savefig('./figures/half_moon_1.png', dpi=300)\n",
    "plt.show()"
   ]
  },
  {
   "cell_type": "code",
   "execution_count": 140,
   "metadata": {},
   "outputs": [
    {
     "data": {
      "image/png": "[encoded data removed]",
      "text/plain": [
       "<matplotlib.figure.Figure at 0x1f572520588>"
      ]
     },
     "metadata": {},
     "output_type": "display_data"
    }
   ],
   "source": [
    "from matplotlib.ticker import FormatStrFormatter\n",
    "\n",
    "x_kpca = KernelPCA(gamma=15, n_components=2,kernel='linear')\n",
    "x_pca = PCA(n_components=2)\n",
    "X_kpca = x_pca.fit_transform(X)\n",
    "\n",
    "fig, ax = plt.subplots(nrows=1,ncols=2, figsize=(7,3))\n",
    "ax[0].scatter(X_kpca[y==0, 0], X_kpca[y==0, 1], \n",
    "            color='red', marker='^', alpha=0.5)\n",
    "ax[0].scatter(X_kpca[y==1, 0], X_kpca[y==1, 1],\n",
    "            color='blue', marker='o', alpha=0.5)\n",
    "\n",
    "ax[1].scatter(X_kpca[y==0, 0], np.zeros((50,1))+0.02, \n",
    "            color='red', marker='^', alpha=0.5)\n",
    "ax[1].scatter(X_kpca[y==1, 0], np.zeros((50,1))-0.02,\n",
    "            color='blue', marker='o', alpha=0.5)\n",
    "\n",
    "ax[0].set_xlabel('PC1')\n",
    "ax[0].set_ylabel('PC2')\n",
    "ax[1].set_ylim([-1, 1])\n",
    "ax[1].set_yticks([])\n",
    "ax[1].set_xlabel('PC1')\n",
    "ax[0].xaxis.set_major_formatter(FormatStrFormatter('%0.1f'))\n",
    "ax[1].xaxis.set_major_formatter(FormatStrFormatter('%0.1f'))\n",
    "\n",
    "plt.tight_layout()\n",
    "# plt.savefig('./figures/half_moon_3.png', dpi=300)\n",
    "plt.show()"
   ]
  },
  {
   "cell_type": "code",
   "execution_count": null,
   "metadata": {},
   "outputs": [],
   "source": []
  },
  {
   "cell_type": "code",
   "execution_count": null,
   "metadata": {
    "collapsed": true
   },
   "outputs": [],
   "source": []
  }
 ],
 "metadata": {
  "kernelspec": {
   "display_name": "Python 3",
   "language": "python",
   "name": "python3"
  },
  "language_info": {
   "codemirror_mode": {
    "name": "ipython",
    "version": 3
   },
   "file_extension": ".py",
   "mimetype": "text/x-python",
   "name": "python",
   "nbconvert_exporter": "python",
   "pygments_lexer": "ipython3",
   "version": "3.5.4"
  }
 },
 "nbformat": 4,
 "nbformat_minor": 2
}
